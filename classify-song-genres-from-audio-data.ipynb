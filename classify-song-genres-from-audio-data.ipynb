{
 "cells": [
  {
   "cell_type": "code",
   "execution_count": 1,
   "id": "d31de834",
   "metadata": {
    "execution": {
     "iopub.execute_input": "2021-12-30T22:31:58.988295Z",
     "iopub.status.busy": "2021-12-30T22:31:58.986944Z",
     "iopub.status.idle": "2021-12-30T22:31:59.960901Z",
     "shell.execute_reply": "2021-12-30T22:31:59.960092Z",
     "shell.execute_reply.started": "2021-12-30T22:31:03.150921Z"
    },
    "papermill": {
     "duration": 0.992761,
     "end_time": "2021-12-30T22:31:59.961083",
     "exception": false,
     "start_time": "2021-12-30T22:31:58.968322",
     "status": "completed"
    },
    "tags": []
   },
   "outputs": [],
   "source": [
    "#IMPORT STANDARD LIBRARIES\n",
    "import pandas as pd\n",
    "import numpy as np\n",
    "import matplotlib.pyplot as plt\n",
    "import seaborn as sns"
   ]
  },
  {
   "cell_type": "code",
   "execution_count": 2,
   "id": "dc22b72c",
   "metadata": {
    "execution": {
     "iopub.execute_input": "2021-12-30T22:31:59.994040Z",
     "iopub.status.busy": "2021-12-30T22:31:59.993091Z",
     "iopub.status.idle": "2021-12-30T22:32:00.345258Z",
     "shell.execute_reply": "2021-12-30T22:32:00.344308Z",
     "shell.execute_reply.started": "2021-12-30T22:31:03.158005Z"
    },
    "papermill": {
     "duration": 0.369608,
     "end_time": "2021-12-30T22:32:00.345407",
     "exception": false,
     "start_time": "2021-12-30T22:31:59.975799",
     "status": "completed"
    },
    "tags": []
   },
   "outputs": [],
   "source": [
    "#IMPORT MACHINE LEARNING LIBRARIES\n",
    "from sklearn.model_selection import train_test_split, KFold, cross_val_score, GridSearchCV\n",
    "\n",
    "from sklearn.preprocessing import StandardScaler\n",
    "from sklearn.pipeline import make_pipeline\n",
    "from sklearn.pipeline import Pipeline\n",
    "\n",
    "from sklearn.decomposition import PCA\n",
    "\n",
    "from sklearn.linear_model import LogisticRegression\n",
    "from sklearn.tree import DecisionTreeClassifier\n",
    "from sklearn.naive_bayes import GaussianNB\n",
    "from sklearn.svm import SVC\n",
    "\n",
    "from sklearn.ensemble import RandomForestClassifier, VotingClassifier\n",
    "\n",
    "from sklearn.metrics import accuracy_score, classification_report, confusion_matrix\n",
    "\n",
    "\n",
    "from sklearn.tree import export_graphviz"
   ]
  },
  {
   "cell_type": "code",
   "execution_count": 3,
   "id": "ad97f932",
   "metadata": {
    "execution": {
     "iopub.execute_input": "2021-12-30T22:32:00.377443Z",
     "iopub.status.busy": "2021-12-30T22:32:00.376468Z",
     "iopub.status.idle": "2021-12-30T22:32:00.540014Z",
     "shell.execute_reply": "2021-12-30T22:32:00.539288Z",
     "shell.execute_reply.started": "2021-12-30T22:31:03.175175Z"
    },
    "papermill": {
     "duration": 0.180557,
     "end_time": "2021-12-30T22:32:00.540184",
     "exception": false,
     "start_time": "2021-12-30T22:32:00.359627",
     "status": "completed"
    },
    "scrolled": true,
    "tags": []
   },
   "outputs": [
    {
     "name": "stdout",
     "output_type": "stream",
     "text": [
      "       track_id  bit_rate  comments        composer         date_created  \\\n",
      "0           135    256000         1             NaN  2008-11-26 01:43:26   \n",
      "1           136    256000         1             NaN  2008-11-26 01:43:35   \n",
      "2           151    192000         0             NaN  2008-11-26 01:44:55   \n",
      "3           152    192000         0             NaN  2008-11-26 01:44:58   \n",
      "4           153    256000         0  Arc and Sender  2008-11-26 01:45:00   \n",
      "...         ...       ...       ...             ...                  ...   \n",
      "17729    155063    320000         0             NaN  2017-03-24 19:40:43   \n",
      "17730    155064    320000         0             NaN  2017-03-24 19:40:44   \n",
      "17731    155065    320000         0             NaN  2017-03-24 19:40:45   \n",
      "17732    155066    320000         0             NaN  2017-03-24 19:40:47   \n",
      "17733    155247    320000         0         Fleslit  2017-03-29 01:40:28   \n",
      "\n",
      "             date_recorded  duration  favorites genre_top          genres  \\\n",
      "0      2008-11-26 00:00:00       837          0      Rock        [45, 58]   \n",
      "1      2008-11-26 00:00:00       509          0      Rock        [45, 58]   \n",
      "2                      NaN       192          0      Rock            [25]   \n",
      "3                      NaN       193          0      Rock            [25]   \n",
      "4      2008-11-26 00:00:00       405          5      Rock            [26]   \n",
      "...                    ...       ...        ...       ...             ...   \n",
      "17729                  NaN       283          3   Hip-Hop       [21, 811]   \n",
      "17730                  NaN       250          2   Hip-Hop       [21, 811]   \n",
      "17731                  NaN       219          3   Hip-Hop       [21, 811]   \n",
      "17732                  NaN       252          6   Hip-Hop       [21, 811]   \n",
      "17733                  NaN       211          3   Hip-Hop  [21, 539, 811]   \n",
      "\n",
      "       ... information interest  language_code  \\\n",
      "0      ...         NaN     2484             en   \n",
      "1      ...         NaN     1948             en   \n",
      "2      ...         NaN      701             en   \n",
      "3      ...         NaN      637             en   \n",
      "4      ...         NaN      354             en   \n",
      "...    ...         ...      ...            ...   \n",
      "17729  ...         NaN     1283            NaN   \n",
      "17730  ...         NaN     1077            NaN   \n",
      "17731  ...         NaN     1340            NaN   \n",
      "17732  ...         NaN     2065            NaN   \n",
      "17733  ...         NaN     1379            NaN   \n",
      "\n",
      "                                                 license listens  lyricist  \\\n",
      "0      Attribution-NonCommercial-ShareAlike 3.0 Inter...    1832       NaN   \n",
      "1      Attribution-NonCommercial-ShareAlike 3.0 Inter...    1498       NaN   \n",
      "2      Attribution-NonCommercial-ShareAlike 3.0 Inter...     148       NaN   \n",
      "3      Attribution-NonCommercial-ShareAlike 3.0 Inter...      98       NaN   \n",
      "4      Attribution-NonCommercial-NoDerivatives (aka M...     424       NaN   \n",
      "...                                                  ...     ...       ...   \n",
      "17729                                        Attribution    1050       NaN   \n",
      "17730                                        Attribution     858       NaN   \n",
      "17731                                        Attribution    1142       NaN   \n",
      "17732                                        Attribution    1474       NaN   \n",
      "17733                                        Attribution    1025       NaN   \n",
      "\n",
      "      number  publisher                                               tags  \\\n",
      "0          0        NaN                                                 []   \n",
      "1          0        NaN                                                 []   \n",
      "2          4        NaN                                                 []   \n",
      "3         11        NaN                                                 []   \n",
      "4          2        NaN                                                 []   \n",
      "...      ...        ...                                                ...   \n",
      "17729      4        NaN  ['old school beats', '2017 free instrumentals'...   \n",
      "17730      2        NaN  ['old school beats', '2017 free instrumentals'...   \n",
      "17731      1        NaN  ['old school beats', '2017 free instrumentals'...   \n",
      "17732      3        NaN  ['old school beats', '2017 free instrumentals'...   \n",
      "17733      0    Fleslit  ['instrumental trap beat', 'love', 'instrument...   \n",
      "\n",
      "                            title  \n",
      "0                    Father's Day  \n",
      "1      Peel Back The Mountain Sky  \n",
      "2                     Untitled 04  \n",
      "3                     Untitled 11  \n",
      "4              Hundred-Year Flood  \n",
      "...                           ...  \n",
      "17729                     Been On  \n",
      "17730                     Send Me  \n",
      "17731                The Question  \n",
      "17732                         Roy  \n",
      "17733             Love In The Sky  \n",
      "\n",
      "[17734 rows x 21 columns]\n"
     ]
    }
   ],
   "source": [
    "#LOAD FMA-ROCK-VS-HIPHIP.CSV\n",
    "tracks = pd.read_csv('../input/audio-data/fma-rock-vs-hiphop.csv')\n",
    "print (tracks)"
   ]
  },
  {
   "cell_type": "code",
   "execution_count": 4,
   "id": "3c41b049",
   "metadata": {
    "execution": {
     "iopub.execute_input": "2021-12-30T22:32:00.574512Z",
     "iopub.status.busy": "2021-12-30T22:32:00.573819Z",
     "iopub.status.idle": "2021-12-30T22:32:00.758475Z",
     "shell.execute_reply": "2021-12-30T22:32:00.757844Z",
     "shell.execute_reply.started": "2021-12-30T22:31:03.301524Z"
    },
    "papermill": {
     "duration": 0.203543,
     "end_time": "2021-12-30T22:32:00.758623",
     "exception": false,
     "start_time": "2021-12-30T22:32:00.555080",
     "status": "completed"
    },
    "scrolled": true,
    "tags": []
   },
   "outputs": [
    {
     "name": "stdout",
     "output_type": "stream",
     "text": [
      "       track_id  acousticness  danceability    energy  instrumentalness  \\\n",
      "0             2      0.416675      0.675894  0.634476          0.010628   \n",
      "1             3      0.374408      0.528643  0.817461          0.001851   \n",
      "2             5      0.043567      0.745566  0.701470          0.000697   \n",
      "3            10      0.951670      0.658179  0.924525          0.965427   \n",
      "4           134      0.452217      0.513238  0.560410          0.019443   \n",
      "...         ...           ...           ...       ...               ...   \n",
      "13124    124857      0.007592      0.790364  0.719288          0.853114   \n",
      "13125    124862      0.041498      0.843077  0.536496          0.865151   \n",
      "13126    124863      0.000124      0.609686  0.895136          0.846624   \n",
      "13127    124864      0.327576      0.574426  0.548327          0.452867   \n",
      "13128    124911      0.993606      0.499339  0.050622          0.945677   \n",
      "\n",
      "       liveness  speechiness    tempo   valence  \n",
      "0      0.177647     0.159310  165.922  0.576661  \n",
      "1      0.105880     0.461818  126.957  0.269240  \n",
      "2      0.373143     0.124595  100.260  0.621661  \n",
      "3      0.115474     0.032985  111.562  0.963590  \n",
      "4      0.096567     0.525519  114.290  0.894072  \n",
      "...         ...          ...      ...       ...  \n",
      "13124  0.720715     0.082550  141.332  0.890461  \n",
      "13125  0.547949     0.074001  101.975  0.476845  \n",
      "13126  0.632903     0.051517  129.996  0.496667  \n",
      "13127  0.075928     0.033388  142.009  0.569274  \n",
      "13128  0.095965     0.065189  119.965  0.204652  \n",
      "\n",
      "[13129 rows x 9 columns]\n"
     ]
    }
   ],
   "source": [
    "#LOAD ECHONEST-METRICS.JSON\n",
    "echonest_metrics = pd.read_json('../input/audio-data/echonest-metrics.json',precise_float=True)\n",
    "print(echonest_metrics)"
   ]
  },
  {
   "cell_type": "code",
   "execution_count": 5,
   "id": "174e8fdb",
   "metadata": {
    "execution": {
     "iopub.execute_input": "2021-12-30T22:32:00.792180Z",
     "iopub.status.busy": "2021-12-30T22:32:00.791534Z",
     "iopub.status.idle": "2021-12-30T22:32:00.820411Z",
     "shell.execute_reply": "2021-12-30T22:32:00.821613Z",
     "shell.execute_reply.started": "2021-12-30T22:31:03.436897Z"
    },
    "papermill": {
     "duration": 0.048161,
     "end_time": "2021-12-30T22:32:00.821860",
     "exception": false,
     "start_time": "2021-12-30T22:32:00.773699",
     "status": "completed"
    },
    "scrolled": true,
    "tags": []
   },
   "outputs": [
    {
     "name": "stdout",
     "output_type": "stream",
     "text": [
      "      track_id  acousticness  danceability    energy  instrumentalness  \\\n",
      "0            2      0.416675      0.675894  0.634476      1.062807e-02   \n",
      "1            3      0.374408      0.528643  0.817461      1.851103e-03   \n",
      "2            5      0.043567      0.745566  0.701470      6.967990e-04   \n",
      "3          134      0.452217      0.513238  0.560410      1.944269e-02   \n",
      "4          153      0.988306      0.255661  0.979774      9.730057e-01   \n",
      "...        ...           ...           ...       ...               ...   \n",
      "4797    124718      0.412194      0.686825  0.849309      6.000000e-10   \n",
      "4798    124719      0.054973      0.617535  0.728567      7.215700e-06   \n",
      "4799    124720      0.010478      0.652483  0.657498      7.098000e-07   \n",
      "4800    124721      0.067906      0.432421  0.764508      1.625500e-06   \n",
      "4801    124722      0.153518      0.638660  0.762567      5.000000e-10   \n",
      "\n",
      "      liveness  speechiness    tempo   valence genre_top  \n",
      "0     0.177647     0.159310  165.922  0.576661   Hip-Hop  \n",
      "1     0.105880     0.461818  126.957  0.269240   Hip-Hop  \n",
      "2     0.373143     0.124595  100.260  0.621661   Hip-Hop  \n",
      "3     0.096567     0.525519  114.290  0.894072   Hip-Hop  \n",
      "4     0.121342     0.051740   90.241  0.034018      Rock  \n",
      "...        ...          ...      ...       ...       ...  \n",
      "4797  0.867543     0.367315   96.104  0.692414   Hip-Hop  \n",
      "4798  0.131438     0.243130   96.262  0.399720   Hip-Hop  \n",
      "4799  0.701523     0.229174   94.885  0.432240   Hip-Hop  \n",
      "4800  0.104412     0.310553  171.329  0.580087   Hip-Hop  \n",
      "4801  0.264847     0.303372   77.842  0.656612   Hip-Hop  \n",
      "\n",
      "[4802 rows x 10 columns]\n"
     ]
    }
   ],
   "source": [
    "#MERGE ECHONEST_METRICS & TRACKS ON TRACK ID\n",
    "echo_tracks = echonest_metrics.merge(tracks[['track_id','genre_top']],on='track_id',how='inner')\n",
    "print(echo_tracks)"
   ]
  },
  {
   "cell_type": "code",
   "execution_count": 6,
   "id": "73355ca8",
   "metadata": {
    "execution": {
     "iopub.execute_input": "2021-12-30T22:32:00.857635Z",
     "iopub.status.busy": "2021-12-30T22:32:00.856641Z",
     "iopub.status.idle": "2021-12-30T22:32:00.899454Z",
     "shell.execute_reply": "2021-12-30T22:32:00.898360Z",
     "shell.execute_reply.started": "2021-12-30T22:31:03.462051Z"
    },
    "papermill": {
     "duration": 0.06125,
     "end_time": "2021-12-30T22:32:00.899652",
     "exception": false,
     "start_time": "2021-12-30T22:32:00.838402",
     "status": "completed"
    },
    "scrolled": true,
    "tags": []
   },
   "outputs": [
    {
     "name": "stdout",
     "output_type": "stream",
     "text": [
      "<class 'pandas.core.frame.DataFrame'>\n",
      "Int64Index: 4802 entries, 0 to 4801\n",
      "Data columns (total 10 columns):\n",
      " #   Column            Non-Null Count  Dtype  \n",
      "---  ------            --------------  -----  \n",
      " 0   track_id          4802 non-null   int64  \n",
      " 1   acousticness      4802 non-null   float64\n",
      " 2   danceability      4802 non-null   float64\n",
      " 3   energy            4802 non-null   float64\n",
      " 4   instrumentalness  4802 non-null   float64\n",
      " 5   liveness          4802 non-null   float64\n",
      " 6   speechiness       4802 non-null   float64\n",
      " 7   tempo             4802 non-null   float64\n",
      " 8   valence           4802 non-null   float64\n",
      " 9   genre_top         4802 non-null   object \n",
      "dtypes: float64(8), int64(1), object(1)\n",
      "memory usage: 412.7+ KB\n",
      "None\n",
      "\n",
      "\n",
      "             track_id  acousticness  danceability       energy  \\\n",
      "count    4802.000000  4.802000e+03   4802.000000  4802.000000   \n",
      "mean    30164.871720  4.870600e-01      0.436556     0.625126   \n",
      "std     28592.013796  3.681396e-01      0.183502     0.244051   \n",
      "min         2.000000  9.491000e-07      0.051307     0.000279   \n",
      "25%      7494.250000  8.351236e-02      0.296047     0.450757   \n",
      "50%     20723.500000  5.156888e-01      0.419447     0.648374   \n",
      "75%     44240.750000  8.555765e-01      0.565339     0.837016   \n",
      "max    124722.000000  9.957965e-01      0.961871     0.999768   \n",
      "\n",
      "       instrumentalness     liveness  speechiness        tempo      valence  \n",
      "count       4802.000000  4802.000000  4802.000000  4802.000000  4802.000000  \n",
      "mean           0.604096     0.187997     0.104877   126.687944     0.453413  \n",
      "std            0.376487     0.150562     0.145934    34.002473     0.266632  \n",
      "min            0.000000     0.025297     0.023234    29.093000     0.014392  \n",
      "25%            0.164972     0.104052     0.036897    98.000750     0.224617  \n",
      "50%            0.808752     0.123080     0.049594   124.625500     0.446240  \n",
      "75%            0.915472     0.215151     0.088290   151.450000     0.666914  \n",
      "max            0.993134     0.971392     0.966177   250.059000     0.983649  \n"
     ]
    }
   ],
   "source": [
    "print(echo_tracks.info())\n",
    "print(\"\\n\\n\",echo_tracks.describe())"
   ]
  },
  {
   "cell_type": "code",
   "execution_count": 7,
   "id": "04b90fe2",
   "metadata": {
    "execution": {
     "iopub.execute_input": "2021-12-30T22:32:00.940746Z",
     "iopub.status.busy": "2021-12-30T22:32:00.938565Z",
     "iopub.status.idle": "2021-12-30T22:32:00.943479Z",
     "shell.execute_reply": "2021-12-30T22:32:00.944231Z",
     "shell.execute_reply.started": "2021-12-30T22:31:03.509950Z"
    },
    "papermill": {
     "duration": 0.027343,
     "end_time": "2021-12-30T22:32:00.944454",
     "exception": false,
     "start_time": "2021-12-30T22:32:00.917111",
     "status": "completed"
    },
    "tags": []
   },
   "outputs": [
    {
     "name": "stdout",
     "output_type": "stream",
     "text": [
      "track_id            0\n",
      "acousticness        0\n",
      "danceability        0\n",
      "energy              0\n",
      "instrumentalness    0\n",
      "liveness            0\n",
      "speechiness         0\n",
      "tempo               0\n",
      "valence             0\n",
      "genre_top           0\n",
      "dtype: int64\n"
     ]
    }
   ],
   "source": [
    "print(echo_tracks.isna().sum())"
   ]
  },
  {
   "cell_type": "code",
   "execution_count": 8,
   "id": "f835498f",
   "metadata": {
    "execution": {
     "iopub.execute_input": "2021-12-30T22:32:00.981970Z",
     "iopub.status.busy": "2021-12-30T22:32:00.981041Z",
     "iopub.status.idle": "2021-12-30T22:32:00.987441Z",
     "shell.execute_reply": "2021-12-30T22:32:00.987943Z",
     "shell.execute_reply.started": "2021-12-30T22:31:03.519784Z"
    },
    "papermill": {
     "duration": 0.026485,
     "end_time": "2021-12-30T22:32:00.988114",
     "exception": false,
     "start_time": "2021-12-30T22:32:00.961629",
     "status": "completed"
    },
    "tags": []
   },
   "outputs": [
    {
     "name": "stdout",
     "output_type": "stream",
     "text": [
      "Rock       3892\n",
      "Hip-Hop     910\n",
      "Name: genre_top, dtype: int64\n"
     ]
    }
   ],
   "source": [
    "print(echo_tracks['genre_top'].value_counts())"
   ]
  },
  {
   "cell_type": "code",
   "execution_count": 9,
   "id": "2b6cb8ed",
   "metadata": {
    "execution": {
     "iopub.execute_input": "2021-12-30T22:32:01.030183Z",
     "iopub.status.busy": "2021-12-30T22:32:01.029523Z",
     "iopub.status.idle": "2021-12-30T22:32:01.529887Z",
     "shell.execute_reply": "2021-12-30T22:32:01.530394Z",
     "shell.execute_reply.started": "2021-12-30T22:31:03.537037Z"
    },
    "papermill": {
     "duration": 0.526289,
     "end_time": "2021-12-30T22:32:01.530567",
     "exception": false,
     "start_time": "2021-12-30T22:32:01.004278",
     "status": "completed"
    },
    "tags": []
   },
   "outputs": [
    {
     "data": {
      "image/png": "[encoded data removed]",
      "text/plain": [
       "<Figure size 720x504 with 2 Axes>"
      ]
     },
     "metadata": {
      "needs_background": "light"
     },
     "output_type": "display_data"
    }
   ],
   "source": [
    "fig, ax = plt.subplots(figsize=(10, 7))\n",
    "mask = np.zeros_like(echo_tracks.corr())\n",
    "mask[np.triu_indices_from(mask)] = True\n",
    "ax = sns.heatmap(echo_tracks.corr(),annot=True, fmt='0.3f',center=0,linewidths=1,cmap=\"YlGnBu\", mask=mask)\n",
    "plt.show()"
   ]
  },
  {
   "cell_type": "code",
   "execution_count": 10,
   "id": "7e479186",
   "metadata": {
    "execution": {
     "iopub.execute_input": "2021-12-30T22:32:01.570758Z",
     "iopub.status.busy": "2021-12-30T22:32:01.569794Z",
     "iopub.status.idle": "2021-12-30T22:32:01.581218Z",
     "shell.execute_reply": "2021-12-30T22:32:01.581714Z",
     "shell.execute_reply.started": "2021-12-30T22:31:04.035043Z"
    },
    "papermill": {
     "duration": 0.033436,
     "end_time": "2021-12-30T22:32:01.581881",
     "exception": false,
     "start_time": "2021-12-30T22:32:01.548445",
     "status": "completed"
    },
    "tags": []
   },
   "outputs": [
    {
     "name": "stdout",
     "output_type": "stream",
     "text": [
      "(3841, 9)\n",
      "(961, 9)\n",
      "(3841,)\n",
      "(961,)\n"
     ]
    }
   ],
   "source": [
    "#DEFINE FEATURES AND LABEL\n",
    "X = echo_tracks.drop(['genre_top'], axis =1)\n",
    "y = echo_tracks['genre_top']\n",
    "\n",
    "\n",
    "X_train, X_test, y_train, y_test = train_test_split(X, y, test_size = 0.2, random_state = 123)\n",
    "print(X_train.shape)\n",
    "print(X_test.shape)\n",
    "print(y_train.shape)\n",
    "print(y_test.shape)\n"
   ]
  },
  {
   "cell_type": "code",
   "execution_count": 11,
   "id": "427df27f",
   "metadata": {
    "execution": {
     "iopub.execute_input": "2021-12-30T22:32:01.621164Z",
     "iopub.status.busy": "2021-12-30T22:32:01.620503Z",
     "iopub.status.idle": "2021-12-30T22:32:01.810736Z",
     "shell.execute_reply": "2021-12-30T22:32:01.811355Z",
     "shell.execute_reply.started": "2021-12-30T22:31:04.047494Z"
    },
    "papermill": {
     "duration": 0.21166,
     "end_time": "2021-12-30T22:32:01.811522",
     "exception": false,
     "start_time": "2021-12-30T22:32:01.599862",
     "status": "completed"
    },
    "tags": []
   },
   "outputs": [
    {
     "name": "stdout",
     "output_type": "stream",
     "text": [
      "\n",
      "Decision Tree Classifier\n",
      "\n",
      "Pipeline(steps=[('SC', StandardScaler()), ('PCA', PCA()),\n",
      "                ('DTC', DecisionTreeClassifier(random_state=123))]) \n",
      "\n",
      "Counfusion Matrix: \n",
      " [[111  79]\n",
      " [ 57 714]] \n",
      "\n",
      "Classification Report: \n",
      "               precision    recall  f1-score   support\n",
      "\n",
      "     Hip-Hop       0.66      0.58      0.62       190\n",
      "        Rock       0.90      0.93      0.91       771\n",
      "\n",
      "    accuracy                           0.86       961\n",
      "   macro avg       0.78      0.76      0.77       961\n",
      "weighted avg       0.85      0.86      0.86       961\n",
      " \n",
      "\n",
      "Accuracy Score:  0.858 \n",
      " \n",
      "\n"
     ]
    }
   ],
   "source": [
    "pca = PCA()\n",
    "\n",
    "sc = StandardScaler()\n",
    "\n",
    "dtc = DecisionTreeClassifier(random_state=123)\n",
    "\n",
    "steps = [('SC',sc), ('PCA', pca), ('DTC', dtc)]\n",
    "\n",
    "model = Pipeline(steps)\n",
    "\n",
    "model.fit(X_train, y_train)\n",
    "\n",
    "y_pred = model.predict(X_test)\n",
    "\n",
    "print(\"\\nDecision Tree Classifier\\n\")\n",
    "print(model,\"\\n\")\n",
    "print(\"Counfusion Matrix: \\n\",confusion_matrix (y_test, y_pred),\"\\n\")\n",
    "print(\"Classification Report: \\n\", classification_report (y_test, y_pred), \"\\n\")\n",
    "print(\"Accuracy Score:  %0.3f \\n\" %accuracy_score(y_test,y_pred), \"\\n\")"
   ]
  },
  {
   "cell_type": "code",
   "execution_count": 12,
   "id": "ad7d378d",
   "metadata": {
    "execution": {
     "iopub.execute_input": "2021-12-30T22:32:01.853504Z",
     "iopub.status.busy": "2021-12-30T22:32:01.852856Z",
     "iopub.status.idle": "2021-12-30T22:32:02.006499Z",
     "shell.execute_reply": "2021-12-30T22:32:02.007597Z",
     "shell.execute_reply.started": "2021-12-30T22:31:04.224885Z"
    },
    "papermill": {
     "duration": 0.177168,
     "end_time": "2021-12-30T22:32:02.007885",
     "exception": false,
     "start_time": "2021-12-30T22:32:01.830717",
     "status": "completed"
    },
    "tags": []
   },
   "outputs": [
    {
     "name": "stdout",
     "output_type": "stream",
     "text": [
      "\n",
      "Logistic Regression\n",
      "\n",
      "Pipeline(steps=[('SC', StandardScaler()), ('PCA', PCA()),\n",
      "                ('LOGREG', LogisticRegression(random_state=123))]) \n",
      "\n",
      "Counfusion Matrix: \n",
      " [[107  83]\n",
      " [ 20 751]] \n",
      "\n",
      "Classification Report: \n",
      "               precision    recall  f1-score   support\n",
      "\n",
      "     Hip-Hop       0.84      0.56      0.68       190\n",
      "        Rock       0.90      0.97      0.94       771\n",
      "\n",
      "    accuracy                           0.89       961\n",
      "   macro avg       0.87      0.77      0.81       961\n",
      "weighted avg       0.89      0.89      0.88       961\n",
      " \n",
      "\n",
      "Accuracy Score:  0.893 \n",
      " \n",
      "\n"
     ]
    }
   ],
   "source": [
    "pca = PCA()\n",
    "\n",
    "sc = StandardScaler()\n",
    "\n",
    "logreg = LogisticRegression(random_state=123)\n",
    "\n",
    "steps = [('SC',sc), ('PCA', pca), ('LOGREG', logreg)]\n",
    "\n",
    "model = Pipeline(steps)\n",
    "\n",
    "model.fit(X_train, y_train)\n",
    "\n",
    "y_pred = model.predict(X_test)\n",
    "\n",
    "print(\"\\nLogistic Regression\\n\")\n",
    "print(model,\"\\n\")\n",
    "print(\"Counfusion Matrix: \\n\",confusion_matrix (y_test, y_pred),\"\\n\")\n",
    "print(\"Classification Report: \\n\", classification_report (y_test, y_pred), \"\\n\")\n",
    "print(\"Accuracy Score:  %0.3f \\n\" %accuracy_score(y_test,y_pred), \"\\n\")"
   ]
  },
  {
   "cell_type": "code",
   "execution_count": 13,
   "id": "1dffd664",
   "metadata": {
    "execution": {
     "iopub.execute_input": "2021-12-30T22:32:02.054426Z",
     "iopub.status.busy": "2021-12-30T22:32:02.053723Z",
     "iopub.status.idle": "2021-12-30T22:32:02.170333Z",
     "shell.execute_reply": "2021-12-30T22:32:02.171401Z",
     "shell.execute_reply.started": "2021-12-30T22:31:04.383858Z"
    },
    "papermill": {
     "duration": 0.140593,
     "end_time": "2021-12-30T22:32:02.171675",
     "exception": false,
     "start_time": "2021-12-30T22:32:02.031082",
     "status": "completed"
    },
    "tags": []
   },
   "outputs": [
    {
     "name": "stdout",
     "output_type": "stream",
     "text": [
      "\n",
      "Gaussian Naive Bayes\n",
      "\n",
      "Pipeline(steps=[('SC', StandardScaler()), ('PCA', PCA()),\n",
      "                ('GNB', GaussianNB())]) \n",
      "\n",
      "Counfusion Matrix: \n",
      " [[110  80]\n",
      " [ 26 745]] \n",
      "\n",
      "Classification Report: \n",
      "               precision    recall  f1-score   support\n",
      "\n",
      "     Hip-Hop       0.81      0.58      0.67       190\n",
      "        Rock       0.90      0.97      0.93       771\n",
      "\n",
      "    accuracy                           0.89       961\n",
      "   macro avg       0.86      0.77      0.80       961\n",
      "weighted avg       0.88      0.89      0.88       961\n",
      " \n",
      "\n",
      "Accuracy Score:  0.890 \n",
      " \n",
      "\n"
     ]
    }
   ],
   "source": [
    "pca = PCA()\n",
    "\n",
    "sc = StandardScaler()\n",
    "\n",
    "gnb = GaussianNB()\n",
    "\n",
    "steps = [('SC',sc), ('PCA', pca), ('GNB', gnb)]\n",
    "\n",
    "model = Pipeline(steps)\n",
    "\n",
    "model.fit(X_train, y_train)\n",
    "\n",
    "y_pred = model.predict(X_test)\n",
    "\n",
    "print(\"\\nGaussian Naive Bayes\\n\")\n",
    "print(model,\"\\n\")\n",
    "print(\"Counfusion Matrix: \\n\",confusion_matrix (y_test, y_pred),\"\\n\")\n",
    "print(\"Classification Report: \\n\", classification_report (y_test, y_pred), \"\\n\")\n",
    "print(\"Accuracy Score:  %0.3f \\n\" %accuracy_score(y_test,y_pred), \"\\n\")"
   ]
  },
  {
   "cell_type": "code",
   "execution_count": 14,
   "id": "8145b852",
   "metadata": {
    "execution": {
     "iopub.execute_input": "2021-12-30T22:32:02.227971Z",
     "iopub.status.busy": "2021-12-30T22:32:02.227259Z",
     "iopub.status.idle": "2021-12-30T22:32:02.522277Z",
     "shell.execute_reply": "2021-12-30T22:32:02.522835Z",
     "shell.execute_reply.started": "2021-12-30T22:31:04.509778Z"
    },
    "papermill": {
     "duration": 0.324831,
     "end_time": "2021-12-30T22:32:02.523026",
     "exception": false,
     "start_time": "2021-12-30T22:32:02.198195",
     "status": "completed"
    },
    "tags": []
   },
   "outputs": [
    {
     "name": "stdout",
     "output_type": "stream",
     "text": [
      "\n",
      "Support Vector Machine\n",
      "\n",
      "Pipeline(steps=[('SC', StandardScaler()), ('PCA', PCA()),\n",
      "                ('SVC', SVC(random_state=123))]) \n",
      "\n",
      "Counfusion Matrix: \n",
      " [[131  59]\n",
      " [ 12 759]] \n",
      "\n",
      "Classification Report: \n",
      "               precision    recall  f1-score   support\n",
      "\n",
      "     Hip-Hop       0.92      0.69      0.79       190\n",
      "        Rock       0.93      0.98      0.96       771\n",
      "\n",
      "    accuracy                           0.93       961\n",
      "   macro avg       0.92      0.84      0.87       961\n",
      "weighted avg       0.93      0.93      0.92       961\n",
      " \n",
      "\n",
      "Accuracy Score:  0.926 \n",
      " \n",
      "\n"
     ]
    }
   ],
   "source": [
    "pca = PCA()\n",
    "\n",
    "sc = StandardScaler()\n",
    "\n",
    "svc= SVC(random_state=123)\n",
    "\n",
    "steps = [('SC',sc), ('PCA', pca), ('SVC', svc)]\n",
    "\n",
    "model = Pipeline(steps)\n",
    "\n",
    "model.fit(X_train, y_train)\n",
    "\n",
    "y_pred = model.predict(X_test)\n",
    "\n",
    "print(\"\\nSupport Vector Machine\\n\")\n",
    "print(model,\"\\n\")\n",
    "print(\"Counfusion Matrix: \\n\",confusion_matrix (y_test, y_pred),\"\\n\")\n",
    "print(\"Classification Report: \\n\", classification_report (y_test, y_pred), \"\\n\")\n",
    "print(\"Accuracy Score:  %0.3f \\n\" %accuracy_score(y_test,y_pred), \"\\n\")"
   ]
  },
  {
   "cell_type": "code",
   "execution_count": 15,
   "id": "2f4d2c72",
   "metadata": {
    "execution": {
     "iopub.execute_input": "2021-12-30T22:32:02.574030Z",
     "iopub.status.busy": "2021-12-30T22:32:02.573381Z",
     "iopub.status.idle": "2021-12-30T22:32:03.833410Z",
     "shell.execute_reply": "2021-12-30T22:32:03.832792Z",
     "shell.execute_reply.started": "2021-12-30T22:31:04.818034Z"
    },
    "papermill": {
     "duration": 1.2897,
     "end_time": "2021-12-30T22:32:03.833548",
     "exception": false,
     "start_time": "2021-12-30T22:32:02.543848",
     "status": "completed"
    },
    "tags": []
   },
   "outputs": [
    {
     "name": "stdout",
     "output_type": "stream",
     "text": [
      "\n",
      "Random Forest Classifier\n",
      "\n",
      "Pipeline(steps=[('SC', StandardScaler()), ('PCA', PCA()),\n",
      "                ('RAND', RandomForestClassifier(random_state=123))]) \n",
      "\n",
      "Counfusion Matrix: \n",
      " [[124  66]\n",
      " [ 18 753]] \n",
      "\n",
      "Classification Report: \n",
      "               precision    recall  f1-score   support\n",
      "\n",
      "     Hip-Hop       0.87      0.65      0.75       190\n",
      "        Rock       0.92      0.98      0.95       771\n",
      "\n",
      "    accuracy                           0.91       961\n",
      "   macro avg       0.90      0.81      0.85       961\n",
      "weighted avg       0.91      0.91      0.91       961\n",
      " \n",
      "\n",
      "Accuracy Score:  0.913 \n",
      " \n",
      "\n"
     ]
    }
   ],
   "source": [
    "pca = PCA()\n",
    "\n",
    "sc = StandardScaler()\n",
    "\n",
    "rand= RandomForestClassifier(random_state=123)\n",
    "\n",
    "steps = [('SC',sc), ('PCA', pca), ('RAND', rand)]\n",
    "\n",
    "model = Pipeline(steps)\n",
    "\n",
    "model.fit(X_train, y_train)\n",
    "\n",
    "y_pred = model.predict(X_test)\n",
    "\n",
    "print(\"\\nRandom Forest Classifier\\n\")\n",
    "print(model,\"\\n\")\n",
    "print(\"Counfusion Matrix: \\n\",confusion_matrix (y_test, y_pred),\"\\n\")\n",
    "print(\"Classification Report: \\n\", classification_report (y_test, y_pred), \"\\n\")\n",
    "print(\"Accuracy Score:  %0.3f \\n\" %accuracy_score(y_test,y_pred), \"\\n\")"
   ]
  },
  {
   "cell_type": "code",
   "execution_count": 16,
   "id": "bd5e55f1",
   "metadata": {
    "execution": {
     "iopub.execute_input": "2021-12-30T22:32:03.890037Z",
     "iopub.status.busy": "2021-12-30T22:32:03.888997Z",
     "iopub.status.idle": "2021-12-30T22:32:15.758990Z",
     "shell.execute_reply": "2021-12-30T22:32:15.758064Z",
     "shell.execute_reply.started": "2021-12-30T22:31:06.118961Z"
    },
    "papermill": {
     "duration": 11.901782,
     "end_time": "2021-12-30T22:32:15.759197",
     "exception": false,
     "start_time": "2021-12-30T22:32:03.857415",
     "status": "completed"
    },
    "tags": []
   },
   "outputs": [
    {
     "name": "stdout",
     "output_type": "stream",
     "text": [
      "Decision Tree Score: 0.898\n",
      "Logistic Regression Score: 0.824\n",
      "Gaussian Naive Bayes Score: 0.813\n",
      "Support Vector Machine Score: 0.813\n",
      "Random Forest Score: 0.933\n"
     ]
    }
   ],
   "source": [
    "kf = KFold(10)\n",
    "\n",
    "pca = PCA()\n",
    "\n",
    "sc = StandardScaler()\n",
    "\n",
    "steps = [('SC',sc), ('PCA', pca)]\n",
    "\n",
    "model = Pipeline(steps)\n",
    "\n",
    "\n",
    "tree_score = cross_val_score(dtc, X_train, y_train, cv=kf)\n",
    "logreg_score = cross_val_score(logreg, X_train, y_train, cv=kf)\n",
    "GNB_score = cross_val_score(gnb, X_train, y_train, cv=kf)\n",
    "SVC_score = cross_val_score(svc, X_train, y_train, cv=kf)\n",
    "RAND_score = cross_val_score(rand, X_train, y_train, cv=kf)\n",
    "\n",
    "\n",
    "print(\"Decision Tree Score: %0.3f\" %tree_score.mean())\n",
    "print(\"Logistic Regression Score: %0.3f\" %logreg_score.mean())\n",
    "print(\"Gaussian Naive Bayes Score: %0.3f\" %GNB_score.mean())\n",
    "print(\"Support Vector Machine Score: %0.3f\" %SVC_score.mean())\n",
    "print(\"Random Forest Score: %0.3f\" %RAND_score.mean())\n"
   ]
  }
 ],
 "metadata": {
  "kernelspec": {
   "display_name": "Python 3",
   "language": "python",
   "name": "python3"
  },
  "language_info": {
   "codemirror_mode": {
    "name": "ipython",
    "version": 3
   },
   "file_extension": ".py",
   "mimetype": "text/x-python",
   "name": "python",
   "nbconvert_exporter": "python",
   "pygments_lexer": "ipython3",
   "version": "3.7.12"
  },
  "papermill": {
   "default_parameters": {},
   "duration": 27.227521,
   "end_time": "2021-12-30T22:32:16.492084",
   "environment_variables": {},
   "exception": null,
   "input_path": "__notebook__.ipynb",
   "output_path": "__notebook__.ipynb",
   "parameters": {},
   "start_time": "2021-12-30T22:31:49.264563",
   "version": "2.3.3"
  }
 },
 "nbformat": 4,
 "nbformat_minor": 5
}
